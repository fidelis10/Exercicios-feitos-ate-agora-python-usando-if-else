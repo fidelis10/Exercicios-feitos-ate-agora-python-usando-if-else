{
  "nbformat": 4,
  "nbformat_minor": 0,
  "metadata": {
    "colab": {
      "provenance": []
    },
    "kernelspec": {
      "name": "python3",
      "display_name": "Python 3"
    },
    "language_info": {
      "name": "python"
    }
  },
  "cells": [
    {
      "cell_type": "code",
      "execution_count": null,
      "metadata": {
        "id": "Uoc0W0Ir4qCb"
      },
      "outputs": [],
      "source": []
    },
    {
      "cell_type": "markdown",
      "source": [
        "Faça um programa que peça um valor e mostre na tela se o valor é positivo ou negativo"
      ],
      "metadata": {
        "id": "d1ZM_Lfc4rV4"
      }
    },
    {
      "cell_type": "code",
      "source": [
        "numero = float (input(\" Digite o valor de um número \"))\n",
        "if numero > 0 :\n",
        " print(\"O Número é positivo \" )\n",
        "elif numero == 0 :\n",
        " print(\"O número digitado é 0 \")\n",
        "else :\n",
        " print(\" O número digitado é negativo \")\n",
        "\n"
      ],
      "metadata": {
        "id": "Kb4HOPgo4rs9"
      },
      "execution_count": null,
      "outputs": []
    },
    {
      "cell_type": "markdown",
      "source": [
        "Faça um programa que verifique (usando if e else) se uma letra digitada é “F” ou “M”. Conforme a letra escrever: F – Feminino, M- Masculino, Sexo inválido."
      ],
      "metadata": {
        "id": "7Lk0AJiZ4tBZ"
      }
    },
    {
      "cell_type": "code",
      "source": [
        "sexo = input(\"Digite m para masculino e f para feminino \" )\n",
        "if sexo == \"m\" or sexo == \"M\":\n",
        " print(\" Sexo Masculino \" )\n",
        "elif Feminino == \"F\" or sexo == \"f\" :\n",
        " print(\" Sexo Feminino \")\n",
        "else :\n",
        " print(\" Sexo Inválido \" )\n",
        "\n"
      ],
      "metadata": {
        "id": "YgBz-F374uWc"
      },
      "execution_count": null,
      "outputs": []
    },
    {
      "cell_type": "markdown",
      "source": [
        "Faça um programa que verifique (usando if e else) se uma letra digitada é vogal ou consoante"
      ],
      "metadata": {
        "id": "CncrUXtE4vjt"
      }
    },
    {
      "cell_type": "code",
      "source": [
        "Letra = input(\"Digite uma letra \")\n",
        "if Letra == \"a\" or Letra == \"A\" :\n",
        " print(\" É uma vogal\" )\n",
        "elif Letra == \"e\" or Letra == \"E\" :\n",
        " print(\" É uma vogal\" )\n",
        "elif Letra == \"i\" or Letra == \"I\" :\n",
        " print( \"É uma vogal\" )\n",
        "elif Letra == \"o\" or Letra == \"O\" :\n",
        " print(\" É uma vogal \" )\n",
        "elif Letra == \"u\" or Letra == \"U\" :\n",
        " print(\" É uma vogal \" )\n",
        "else:\n",
        " print( \"Não é uma vogal \"  )\n"
      ],
      "metadata": {
        "id": "c6T9tD2M4xIY"
      },
      "execution_count": null,
      "outputs": []
    },
    {
      "cell_type": "markdown",
      "source": [
        "Faça um programa para a leitura de duas notas parciais de um aluno. A mensagem “Aprovado”, se a média alcançada for maior ou igual a sete; A mensagem “Aprovado com Distinção”, se a média for igual a dez; A mensagem “Reprovado” se a média for menor de do que sete;"
      ],
      "metadata": {
        "id": "ZK6obu8r4zMe"
      }
    },
    {
      "cell_type": "code",
      "source": [
        "parcial1 = float (input(\" Insira a nota da primeira parcial \" ))\n",
        "parcial2 = float (input(\" Insira a nota da segunda parcial \" ))\n",
        "media = (parcial1 + parcial2) /2\n",
        "if media == 10:\n",
        " print(\" Aprovado com distinç1ão \" )\n",
        "elif media >= 7 and media < 10:\n",
        " print(\"Aprovado\")\n",
        "else:\n",
        " print (\"Reprovado\")\n",
        "\n"
      ],
      "metadata": {
        "id": "KfrzvM_X40mP"
      },
      "execution_count": null,
      "outputs": []
    },
    {
      "cell_type": "markdown",
      "source": [
        "Faça um programa que leia três números, verifique (usando if e else), e mostre o maior deles"
      ],
      "metadata": {
        "id": "gN7EDXgL43NW"
      }
    },
    {
      "cell_type": "code",
      "source": [
        "a = float(input(\" Insira o primeiro número \" ) )\n",
        "b = float(input(\" Insira o segundo número \" ) )\n",
        "c = float(input(\" Insira o terceiro número \" ) )\n",
        "if a > b and a > c :\n",
        " print(\"a\", a)\n",
        "elif b> a and b > c :\n",
        " print(\"b\", b)\n",
        "else :\n",
        " print(\"c\", c)\n"
      ],
      "metadata": {
        "id": "xWOeib4344xH"
      },
      "execution_count": null,
      "outputs": []
    },
    {
      "cell_type": "markdown",
      "source": [
        "Faça um programa que leia três números, verifique (usando if e else) e mostre o maior e o menor deles;"
      ],
      "metadata": {
        "id": "zJlGHI3n46_m"
      }
    },
    {
      "cell_type": "code",
      "source": [
        "a = float(input(\"Insira o primeiro número\") )\n",
        "b = float(input(\"Insira o segundo número\") )\n",
        "c = float(input(\"Insira o terceiro número\") )\n",
        "maior = 8\n",
        "menor = 5\n",
        "if a > b and a > c :\n",
        " print(\"a\", a)\n",
        "elif b> a and b > c :\n",
        " print(\"b\", b )\n",
        "elif c > a and c > b :\n",
        " print(\"c\" , c)\n",
        "if a < b and a < c :\n",
        " print(\"a\", a)\n",
        "elif b < a and b < c :\n",
        " print(\"b\",b )\n",
        "else :\n",
        " print(\"c\", c)\n"
      ],
      "metadata": {
        "id": "g0SWLI_M48BT"
      },
      "execution_count": null,
      "outputs": []
    },
    {
      "cell_type": "markdown",
      "source": [
        "Faça um programa que pergunte o preço de três produtos e informe qual produto você deve comprar, sabendo que a decisão é sempre o mais barato."
      ],
      "metadata": {
        "id": "ltVmS5he49eK"
      }
    },
    {
      "cell_type": "code",
      "source": [
        "a = float(input(\"Insira o valor do primeiro produto\") )\n",
        "b = float(input(\"Insira o valor do segundo produto\") )\n",
        "c = float(input(\"Insira o valor do terceiro produto\") )\n",
        "menor = 5\n",
        "if a < b and a < c :\n",
        " print(\"a\", a)\n",
        "elif b < a and b < c :\n",
        " print(\"b\",b )\n",
        "else :\n",
        " print(\"c\", c)\n"
      ],
      "metadata": {
        "id": "G833cHjF4_g0"
      },
      "execution_count": null,
      "outputs": []
    },
    {
      "cell_type": "markdown",
      "source": [
        "Faça um programa que leia três números e mostre-os em ordem decrescente"
      ],
      "metadata": {
        "id": "gw1gzvLY5BX_"
      }
    },
    {
      "cell_type": "code",
      "source": [
        "a = float(input(\"Insira o  primeiro número\") )\n",
        "b = float(input(\"Insira o  segundo número\") )\n",
        "c = float(input(\"Insira o terceiro número \") )\n",
        "\n",
        "if a > b and a > c and b > c :\n",
        " print(\"a\", a ,\"b\", b , \"c\" ,c)\n",
        "elif b > c and b > a and c > a :\n",
        " print(\"b\", b , \"c\", c, \"a\", a)\n",
        "elif c > b and c > a and a > b :\n",
        " print(\"c\", c , \"a\", a , \"b\", b)\n",
        "elif a > b and a > c and b < c :\n",
        " print(\"a\", a , \"c\", c , \"b\", b )\n",
        "elif b > c and b > a and a > c :\n",
        " print(\"b\", b , \"a\", a, \"c\", c )\n",
        "elif c > b and c > a and b > a :\n",
        " print(\"c\", c , \"b\", b , \"a\", a)\n",
        "\n"
      ],
      "metadata": {
        "id": "khntr5jC5Cs7"
      },
      "execution_count": null,
      "outputs": []
    },
    {
      "cell_type": "markdown",
      "source": [
        "Faça um programa que pergunte em que turno você estuda. Peça para digitar M-matutino ou V-vespertino ou N-noturno. Imprima a mensagem “Bom dia!” ou “Boa Noite” ou “Valor inválido”, conforme o caso."
      ],
      "metadata": {
        "id": "u8UDRIZX5EW4"
      }
    },
    {
      "cell_type": "code",
      "source": [
        "turno = input(\"Digite o turno que você estuda. M para matutino, V para vespertino ou N para noturno  \" )\n",
        "if turno == \"m\" or turno == \"M\":\n",
        " print(\" Bom dia! \" )\n",
        "elif turno == \"v\" or turno == \"V\" :\n",
        " print(\" Boa tarde! \")\n",
        "elif turno == \"n\" or turno == \"N\" :\n",
        " print(\" Boa noite! \")\n",
        "else :\n",
        " print(\" Valor inválido \" )\n"
      ],
      "metadata": {
        "id": "msVyzzrD5Fqa"
      },
      "execution_count": null,
      "outputs": []
    },
    {
      "cell_type": "markdown",
      "source": [
        "Faça um programa que peça dois números ao usuário e mostre qual o maior e qual o menor"
      ],
      "metadata": {
        "id": "qRsbZTmV5HNW"
      }
    },
    {
      "cell_type": "code",
      "source": [
        "num1 = float(input(\"Insira o primeiro número \") )\n",
        "num2 = float(input(\"Insira o segundo número \") )\n",
        "if num1 > num2 :\n",
        " print(\"num1\", num1 ,  \"num2\", num2 )\n",
        "else :\n",
        " print(\"num2\", num2 ,  \"num1\" , num1 )\n"
      ],
      "metadata": {
        "id": "JdxqFaIi5IaJ"
      },
      "execution_count": null,
      "outputs": []
    },
    {
      "cell_type": "markdown",
      "source": [
        "Faça um Programa que leia um número e exiba o dia correspondente da semana. (1- Domingo , 2- Segunda, etc.) se digitar outro valor deve aparecer “valor inválido)"
      ],
      "metadata": {
        "id": "236EqmwZ5KKu"
      }
    },
    {
      "cell_type": "code",
      "source": [
        "diasemana = int(input(\" Digite o número de acordo com o dia de semana \"))\n",
        "if diasemana == 1 :\n",
        " print(\" Domingo \")\n",
        "elif diasemana == 2 :\n",
        " print(\" Segunda \")\n",
        "elif diasemana == 3 :\n",
        " print(\" Terça \")\n",
        "elif diasemana == 4 :\n",
        " print(\" Quarta \")\n",
        "elif diasemana == 5 :\n",
        " print(\" Quinta \")\n",
        "elif diasemana == 6 :\n",
        " print(\" Sexta \")\n",
        "elif diasemana == 7 :\n",
        " print(\" Sábado \")\n",
        "else :\n",
        " print(\"Valor inválido\")"
      ],
      "metadata": {
        "id": "Yi_-Am5S5LTa"
      },
      "execution_count": null,
      "outputs": []
    }
  ]
}