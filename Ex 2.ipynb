{
  "nbformat": 4,
  "nbformat_minor": 0,
  "metadata": {
    "colab": {
      "provenance": []
    },
    "kernelspec": {
      "name": "python3",
      "display_name": "Python 3"
    },
    "language_info": {
      "name": "python"
    }
  },
  "cells": [
    {
      "cell_type": "code",
      "execution_count": null,
      "metadata": {
        "id": "oG-ieLu75lLN"
      },
      "outputs": [],
      "source": []
    },
    {
      "cell_type": "markdown",
      "source": [
        "Faca um programa que peca o valor da gasolina comum e da gasolina aditivada e também que mostre o total do valor gasto para encher um tanque de um carro, mostrando qual iria sair\n",
        "mais barato e em quanto mais barato iria sair. (Faça com que o usuário digite quantos litros\n",
        "tem o carro dele e o valor da gasolina comum e o valor da gasolina aditivada) (usando if e else)\n"
      ],
      "metadata": {
        "id": "WSUCvR0i5m7n"
      }
    },
    {
      "cell_type": "code",
      "source": [
        "diferencadosdoisvalores = 0\n",
        "tamanhodotanque = float(input(\"Digite a quantidade de litros do carro: \"))\n",
        "gasolinacomum = float(input(\"Digite o valor da gasolina comum no seu estado: \"))\n",
        "gasolinaaditivada = float(input(\"Digite o valor da gasolina aditivada no seu estado: \"))\n",
        "resultado = tamanhodotanque * gasolinaaditivada\n",
        "resultado2 = tamanhodotanque * gasolinacomum\n",
        "if resultado > resultado2 :\n",
        " diferencadosdoisvalores =\tresultado - resultado2\n",
        " print(f\"A gasolina comum e mais barata em {diferencadosdoisvalores} reais \")\n",
        "else:\n",
        " diferencadosdoisvalores = resultado2 - resultado\n",
        " print(f\"A gasolina aditivada e mais barata em {diferencadosdoisvalores} \")\n"
      ],
      "metadata": {
        "colab": {
          "base_uri": "https://localhost:8080/"
        },
        "id": "vriVdLnH5nwv",
        "outputId": "f98b85ae-bbf5-458d-f966-44c3273641d5"
      },
      "execution_count": 1,
      "outputs": [
        {
          "output_type": "stream",
          "name": "stdout",
          "text": [
            "Digite a quantidade de litros do carro: 10\n",
            "Digite o valor da gasolina comum no seu estado: 5\n",
            "Digite o valor da gasolina aditivada no seu estado: 4\n",
            "A gasolina aditivada e mais barata em 10.0 \n"
          ]
        }
      ]
    },
    {
      "cell_type": "markdown",
      "source": [
        "Faça um programa que faça o cálculo entre duas notas. Se a media das duas notas for maior que 8 mostre que foi aprovado, caso a media for menor que 8 e maior que 5, mostre que foi aprovado com cuidado e se for menor que 5, mostre que foi reprovado. Se a pessoa for reprovada, peça para inserir a nota da prova de recuperacao e some com a media das duas primeiras notas e mostre se ela foi aprovada pos prova de recuperação ou nao (usando if e else)"
      ],
      "metadata": {
        "id": "h_QiV_Tl6Cqw"
      }
    },
    {
      "cell_type": "code",
      "source": [
        "N1 = float(input(\"Digite o valor da primeira nota\"))\n",
        "N2 = float(input(\"Digite o valor da segunda nota\"))\n",
        "media = (N1 + N2) / 2\n",
        "if media > 8 :\n",
        " print(\"Aprovado\")\n",
        "elif media < 8 and media >= 5 :\n",
        " print(\"Aprovado com cuidado\")\n",
        "elif media < 5 :\n",
        " print(\"Reprovado\")\n",
        " N3 = int(input(\"Digite a nota da prova de recuperacao\"))\n",
        " media2 = (N1 + N2 + N3) / 3\n",
        " if media2 > 5 :\n",
        "  print(\"Aprovado pos prova de recuperacao\")\n",
        "else:\n",
        " print(\"Reporvada mesmo pos prova de recuperacao\")\n"
      ],
      "metadata": {
        "colab": {
          "base_uri": "https://localhost:8080/"
        },
        "id": "x62t9y4W6COl",
        "outputId": "aa8cc887-0ed2-40f8-ac2a-a4168eb5183a"
      },
      "execution_count": 6,
      "outputs": [
        {
          "output_type": "stream",
          "name": "stdout",
          "text": [
            "Digite o valor da primeira nota10\n",
            "Digite o valor da segunda nota10\n",
            "Aprovado\n"
          ]
        }
      ]
    }
  ]
}